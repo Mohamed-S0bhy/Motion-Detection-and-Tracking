{
 "cells": [
  {
   "cell_type": "code",
   "execution_count": null,
   "id": "1dd9e10d-f53a-4c47-967f-c7861b2c8bac",
   "metadata": {},
   "outputs": [],
   "source": [
    "import cv2"
   ]
  },
  {
   "cell_type": "code",
   "execution_count": null,
   "id": "794fc8a4-97e9-4024-9381-49c3f27bc5a7",
   "metadata": {},
   "outputs": [],
   "source": [
    "# Capture the video\n",
    "video = cv2.VideoCapture('vtest.avi')\n",
    "frame_width = int(video.get(cv2.CAP_PROP_FRAME_WIDTH))\n",
    "frame_height = int(video.get(cv2.CAP_PROP_FRAME_HEIGHT))"
   ]
  },
  {
   "cell_type": "code",
   "execution_count": null,
   "id": "3ed5f509-c7e2-4c20-b501-81cb5a49af46",
   "metadata": {},
   "outputs": [],
   "source": [
    "# Define the codec and create VideoWriter object\n",
    "fourcc = cv2.VideoWriter_fourcc('X', 'V', 'I', 'D')\n",
    "out = cv2.VideoWriter(\"F:\\Certficates/output.avi\", fourcc, 5.0, (frame_width, frame_height))"
   ]
  },
  {
   "cell_type": "code",
   "execution_count": null,
   "id": "3ee58736-df53-4344-82a8-17eebf78907d",
   "metadata": {},
   "outputs": [],
   "source": [
    "# Read the first two frames\n",
    "ret, frame1 = video.read()\n",
    "ret, frame2 = video.read()"
   ]
  },
  {
   "cell_type": "code",
   "execution_count": 24,
   "id": "c6def6ff-c38e-46a4-b505-cc64fdb01453",
   "metadata": {},
   "outputs": [],
   "source": [
    "while video.isOpened():\n",
    "    # Calculate the difference between the frames\n",
    "    diff = cv2.absdiff(frame1, frame2)\n",
    "    \n",
    "    # Convert the difference to grayscale\n",
    "    gray = cv2.cvtColor(diff, cv2.COLOR_BGR2GRAY)\n",
    "    \n",
    "    # Apply Gaussian blur to remove noise\n",
    "    blur = cv2.GaussianBlur(gray, (5, 5), 0)\n",
    "    \n",
    "    # Apply threshold to find contours\n",
    "    _, thresh = cv2.threshold(blur, 20, 255, cv2.THRESH_BINARY)\n",
    "    \n",
    "    # Dilate the threshold image to fill in holes\n",
    "    dilated = cv2.dilate(thresh, None, iterations=3)\n",
    "    \n",
    "    # Find contours in the dilated image\n",
    "    contours, _ = cv2.findContours(dilated, cv2.RETR_TREE, cv2.CHAIN_APPROX_SIMPLE)\n",
    "    \n",
    "    # Draw rectangles around the contours\n",
    "    for contour in contours:\n",
    "        (x, y, w, h) = cv2.boundingRect(contour)\n",
    "        if cv2.contourArea(contour) < 900:\n",
    "            continue\n",
    "        cv2.rectangle(frame1, (x, y), (x + w, y + h), (0, 255, 0), 2)\n",
    "        cv2.putText(frame1, \"Status: {}\".format('Movement'), (10, 20), cv2.FONT_HERSHEY_SIMPLEX, 1, (0, 0, 255), 3)\n",
    "    \n",
    "    # Write the frame to the output video (no resizing here)\n",
    "    out.write(frame1)\n",
    "    \n",
    "    # Move to the next frame\n",
    "    frame1 = frame2\n",
    "    ret, frame2 = video.read()\n",
    "    \n",
    "    if not ret:\n",
    "        break\n",
    "\n",
    "# Release resources\n",
    "video.release()\n",
    "out.release()"
   ]
  }
 ],
 "metadata": {
  "kernelspec": {
   "display_name": "Python 3 (ipykernel)",
   "language": "python",
   "name": "python3"
  },
  "language_info": {
   "codemirror_mode": {
    "name": "ipython",
    "version": 3
   },
   "file_extension": ".py",
   "mimetype": "text/x-python",
   "name": "python",
   "nbconvert_exporter": "python",
   "pygments_lexer": "ipython3",
   "version": "3.11.5"
  }
 },
 "nbformat": 4,
 "nbformat_minor": 5
}
